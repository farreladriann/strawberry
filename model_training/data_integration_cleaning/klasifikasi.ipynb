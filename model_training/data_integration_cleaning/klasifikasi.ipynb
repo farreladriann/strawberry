{
 "cells": [
  {
   "cell_type": "code",
   "execution_count": null,
   "metadata": {},
   "outputs": [],
   "source": [
    "import os\n",
    "import pandas as pd\n",
    "import matplotlib.pyplot as plt\n",
    "\n",
    "def analyze_dataset(base_path):\n",
    "    \"\"\"\n",
    "    Menganalisis dataset klasifikasi yang terdiri dari folder train, valid, dan test.\n",
    "\n",
    "    Args:\n",
    "        base_path (str): Path ke direktori utama dataset.\n",
    "    \"\"\"\n",
    "\n",
    "    data = []\n",
    "    for folder in ['train', 'valid', 'test']:\n",
    "        folder_path = os.path.join(base_path, folder)\n",
    "        for class_name in os.listdir(folder_path):\n",
    "            class_path = os.path.join(folder_path, class_name)\n",
    "            if os.path.isdir(class_path):\n",
    "                file_count = len(os.listdir(class_path))\n",
    "                data.append([class_name, folder, file_count])\n",
    "\n",
    "    df = pd.DataFrame(data, columns=['Nama Kelas', 'Folder', 'Jumlah'])\n",
    "\n",
    "    # Menghitung total data untuk setiap kelas di setiap folder\n",
    "    summary = df.groupby(['Nama Kelas', 'Folder'])['Jumlah'].sum().unstack(fill_value=0)\n",
    "    summary['Total'] = summary.sum(axis=1)\n",
    "    summary = summary.reset_index()\n",
    "\n",
    "    # Menghitung persentase distribusi data\n",
    "    for folder in ['train', 'valid', 'test']:  # Mengganti 'val' dengan 'valid'\n",
    "        summary[f'{folder} (%)'] = (summary[folder] / summary['Total'] * 100).round(2)\n",
    "\n",
    "    # Menampilkan tabel statistik\n",
    "    print(\"Total Data untuk Setiap Kelas:\")\n",
    "    print(\"-\" * 80)\n",
    "    print(summary.to_string(index=False))\n",
    "    print(\"-\" * 80)\n",
    "    print(f\"Total Keseluruhan Data: {summary['Total'].sum()}\")\n",
    "\n",
    "    print(\"\\nPersentase Distribusi Data untuk Setiap Kelas:\")\n",
    "    print(\"-\" * 60)\n",
    "    print(summary[['Nama Kelas', 'train (%)', 'test (%)', 'valid (%)']].to_string(index=False))  # Mengganti 'val' dengan 'valid'\n",
    "\n",
    "    # Membuat grafik batang\n",
    "    summary.plot(x='Nama Kelas', y=['train', 'test', 'valid'], kind='bar', figsize=(12, 6))  # Mengganti 'val' dengan 'valid'\n",
    "    plt.title('Jumlah Data untuk Setiap Kelas di Setiap Folder')\n",
    "    plt.xlabel('Kelas')\n",
    "    plt.ylabel('Jumlah Data')\n",
    "    plt.xticks(rotation=45, ha='right')\n",
    "    plt.tight_layout()\n",
    "    plt.show()"
   ]
  }
 ],
 "metadata": {
  "kernelspec": {
   "display_name": "venv",
   "language": "python",
   "name": "python3"
  },
  "language_info": {
   "name": "python",
   "version": "3.12.8"
  }
 },
 "nbformat": 4,
 "nbformat_minor": 2
}
